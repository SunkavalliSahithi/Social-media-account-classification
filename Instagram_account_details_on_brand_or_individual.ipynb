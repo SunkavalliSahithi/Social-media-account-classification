{
 "cells": [
  {
   "cell_type": "code",
   "execution_count": 1,
   "id": "2602e07d",
   "metadata": {},
   "outputs": [
    {
     "name": "stdout",
     "output_type": "stream",
     "text": [
      "Requirement already satisfied: instaloader in c:\\users\\chowd\\anaconda3\\lib\\site-packages (4.10.1)\n",
      "Requirement already satisfied: requests>=2.4 in c:\\users\\chowd\\anaconda3\\lib\\site-packages (from instaloader) (2.31.0)\n",
      "Requirement already satisfied: charset-normalizer<4,>=2 in c:\\users\\chowd\\anaconda3\\lib\\site-packages (from requests>=2.4->instaloader) (2.0.4)\n",
      "Requirement already satisfied: idna<4,>=2.5 in c:\\users\\chowd\\anaconda3\\lib\\site-packages (from requests>=2.4->instaloader) (3.4)\n",
      "Requirement already satisfied: urllib3<3,>=1.21.1 in c:\\users\\chowd\\anaconda3\\lib\\site-packages (from requests>=2.4->instaloader) (1.26.16)\n",
      "Requirement already satisfied: certifi>=2017.4.17 in c:\\users\\chowd\\anaconda3\\lib\\site-packages (from requests>=2.4->instaloader) (2023.7.22)\n",
      "Note: you may need to restart the kernel to use updated packages.\n"
     ]
    }
   ],
   "source": [
    "pip install instaloader"
   ]
  },
  {
   "cell_type": "code",
   "execution_count": 3,
   "id": "ba369d75",
   "metadata": {},
   "outputs": [
    {
     "name": "stdout",
     "output_type": "stream",
     "text": [
      "Requirement already satisfied: pip in c:\\users\\chowd\\anaconda3\\lib\\site-packages (23.2.1)\n",
      "Collecting pip\n",
      "  Obtaining dependency information for pip from https://files.pythonhosted.org/packages/47/6a/453160888fab7c6a432a6e25f8afe6256d0d9f2cbd25971021da6491d899/pip-23.3.1-py3-none-any.whl.metadata\n",
      "  Using cached pip-23.3.1-py3-none-any.whl.metadata (3.5 kB)\n",
      "Using cached pip-23.3.1-py3-none-any.whl (2.1 MB)\n",
      "Installing collected packages: pip\n",
      "  Attempting uninstall: pip\n",
      "    Found existing installation: pip 23.2.1\n",
      "    Uninstalling pip-23.2.1:\n",
      "      Successfully uninstalled pip-23.2.1\n",
      "Successfully installed pip-23.3.1\n",
      "Note: you may need to restart the kernel to use updated packages.\n"
     ]
    }
   ],
   "source": [
    "pip install --upgrade pip"
   ]
  },
  {
   "cell_type": "code",
   "execution_count": 4,
   "id": "af377591",
   "metadata": {},
   "outputs": [
    {
     "name": "stdout",
     "output_type": "stream",
     "text": [
      "Requirement already satisfied: instaloader in c:\\users\\chowd\\anaconda3\\lib\\site-packages (4.10.1)\n",
      "Requirement already satisfied: requests>=2.4 in c:\\users\\chowd\\anaconda3\\lib\\site-packages (from instaloader) (2.31.0)\n",
      "Requirement already satisfied: charset-normalizer<4,>=2 in c:\\users\\chowd\\anaconda3\\lib\\site-packages (from requests>=2.4->instaloader) (2.0.4)\n",
      "Requirement already satisfied: idna<4,>=2.5 in c:\\users\\chowd\\anaconda3\\lib\\site-packages (from requests>=2.4->instaloader) (3.4)\n",
      "Requirement already satisfied: urllib3<3,>=1.21.1 in c:\\users\\chowd\\anaconda3\\lib\\site-packages (from requests>=2.4->instaloader) (1.26.16)\n",
      "Requirement already satisfied: certifi>=2017.4.17 in c:\\users\\chowd\\anaconda3\\lib\\site-packages (from requests>=2.4->instaloader) (2023.7.22)\n",
      "Note: you may need to restart the kernel to use updated packages.\n"
     ]
    }
   ],
   "source": [
    "pip install instaloader --upgrade"
   ]
  },
  {
   "cell_type": "markdown",
   "id": "f28a8aff",
   "metadata": {},
   "source": [
    "# Task 1-1 "
   ]
  },
  {
   "cell_type": "markdown",
   "id": "cb086761",
   "metadata": {},
   "source": [
    "Given an instagram profile url, for example https://www.instagram.com/aashnashroff, using Vision / NLP algorithms and ( or ) heuristics, classify if the account belongs to an individual user or a brand / organization."
   ]
  },
  {
   "cell_type": "markdown",
   "id": "1c0b3e30",
   "metadata": {},
   "source": [
    "## Instaloader\n"
   ]
  },
  {
   "cell_type": "markdown",
   "id": "2f3a4ddc",
   "metadata": {},
   "source": [
    "`fetch_instagram_data(username)` retrieves data from an Instagram user's profile by utilizing the Instaloader library. After initializing an instance of Instaloader, it obtains the Instagram user's profile data with the provided {username}. The `profile` variable is used to fetch and store the user's profile information, which includes information about their posts, followers, and following. This {profile} object, which may be used to access and examine the user's Instagram data in further detail, is what the function returns."
   ]
  },
  {
   "cell_type": "code",
   "execution_count": 2,
   "id": "61369afe",
   "metadata": {},
   "outputs": [],
   "source": [
    "import instaloader\n",
    "\n",
    "def fetch_instagram_data(username):\n",
    "    L = instaloader.Instaloader()\n",
    "    profile = instaloader.Profile.from_username(L.context, username)\n",
    "    return profile"
   ]
  },
  {
   "cell_type": "markdown",
   "id": "0a49cf71",
   "metadata": {},
   "source": [
    "## Analyzing Profile Picture for Faces"
   ]
  },
  {
   "cell_type": "markdown",
   "id": "07d18d2f",
   "metadata": {},
   "source": [
    "To search for faces in an Instagram user's profile image, use the function `analyze_profile_picture(profile)`. Using the `get_profile_pic_url()` method, the function first obtains the URL of the user's profile photo from the `profile} object. After that, it sends an HTTP request to retrieve the picture data, and it determines whether the request was successful if the response status code is 200. If successful, the picture is decoded using OpenCV, grayscaled, and then a Haar Cascade classifier is used to recognize faces. {faces_detected} is the number of faces found in the profile photo that has been tallied. If there are any errors, the function returns 0 and prints the appropriate error messages. Additionally, there's a comment indicating that you can similarly add code to detect logos if needed, but that part is not implemented in the provided code."
   ]
  },
  {
   "cell_type": "code",
   "execution_count": 7,
   "id": "15868d84",
   "metadata": {},
   "outputs": [],
   "source": [
    "import cv2\n",
    "import requests\n",
    "import numpy as np\n",
    "\n",
    "def analyze_profile_picture(profile):\n",
    "    img_url = profile.get_profile_pic_url()\n",
    "\n",
    "    try:\n",
    "        response = requests.get(img_url)\n",
    "        if response.status_code == 200:\n",
    "            img_data = np.frombuffer(response.content, np.uint8)\n",
    "            img = cv2.imdecode(img_data, cv2.IMREAD_COLOR)\n",
    "\n",
    "            if img is not None:\n",
    "                face_cascade = cv2.CascadeClassifier(cv2.data.haarcascades + 'haarcascade_frontalface_default.xml')\n",
    "                gray = cv2.cvtColor(img, cv2.COLOR_BGR2GRAY)\n",
    "                faces = face_cascade.detectMultiScale(gray, scaleFactor=1.1, minNeighbors=5, minSize=(30, 30))\n",
    "                faces_detected = len(faces)\n",
    "\n",
    "                # You can similarly add code to detect logos if needed.\n",
    "\n",
    "                return faces_detected\n",
    "            else:\n",
    "                print(\"Failed to decode the image.\")\n",
    "                return 0\n",
    "        else:\n",
    "            print(f\"Failed to fetch the image from URL: {img_url}\")\n",
    "            return 0\n",
    "    except Exception as e:\n",
    "        print(f\"An error occurred while processing the image: {str(e)}\")\n",
    "        return 0\n"
   ]
  },
  {
   "cell_type": "markdown",
   "id": "5edd805c",
   "metadata": {},
   "source": [
    "##  Analyzing Text for Named Entities"
   ]
  },
  {
   "cell_type": "markdown",
   "id": "b4d2658c",
   "metadata": {},
   "source": [
    "using the Hugging Face Transformers library, Named Entity Recognition (NER) may be carried out on a text input. Hugging Face's Transformers library's pre-trained NER (Named Entity Recognition) pipeline is used by the method `analyze_nlp_text(text)`, which accepts a text as input. The NER pipeline is started, the input text is processed, and named entities—such as names of individuals, groups, places, and more—are extracted from the text. The function returns the named entities that have been identified and are kept in the `keywords` variable. Using a previously trained NER model, this code streamlines the process of extracting entities from text."
   ]
  },
  {
   "cell_type": "code",
   "execution_count": 11,
   "id": "589edfa0",
   "metadata": {},
   "outputs": [],
   "source": [
    "from transformers import pipeline\n",
    "\n",
    "def analyze_nlp_text(text):\n",
    "    nlp = pipeline(\"ner\")\n",
    "    keywords = nlp(text)\n",
    "    return keywords\n"
   ]
  },
  {
   "cell_type": "markdown",
   "id": "cb01b4eb",
   "metadata": {},
   "source": [
    "## Account Classification Based on Profile Data"
   ]
  },
  {
   "cell_type": "markdown",
   "id": "494cb04f",
   "metadata": {},
   "source": [
    "The input for `classify_account(profile)} is the profile of an Instagram user. In order to find faces in the user's profile image, it first runs the `analyze_profile_picture(profile)` function. The count of faces found is then assigned to the variable `face_score}. Next, it utilizes the `analyze_nlp_text(profile.biography)` method to retrieve named entities from the user's biography, and it allocates the `keyword_score` variable to the number of retrieved keywords.  \n",
    "\n",
    "The function then determines if {keyword_score} and {face_score} are both greater than 0. The function labels the account as \"Individual\" and returns this label if it detects faces in the profile picture and names entities in the biography. Otherwise, the function labels the account as \"Brand/Organization\" and returns this label if neither the biography nor the profile picture contain any faces. In order to determine the type of account, the classification relies on the presence of textual information (named entities in the biography) and personal attributes (faces in the profile picture)."
   ]
  },
  {
   "cell_type": "code",
   "execution_count": 12,
   "id": "f03536da",
   "metadata": {},
   "outputs": [],
   "source": [
    "def classify_account(profile):\n",
    "    faces_detected = analyze_profile_picture(profile)\n",
    "    keywords = analyze_nlp_text(profile.biography)\n",
    "\n",
    "    face_score = faces_detected  # Using the detected face count directly\n",
    "    keyword_score = len(keywords)\n",
    "\n",
    "    if face_score > 0 and keyword_score > 0:\n",
    "        return \"Individual\"\n",
    "    else:\n",
    "        return \"Brand/Organization\""
   ]
  },
  {
   "cell_type": "markdown",
   "id": "66400b68",
   "metadata": {},
   "source": [
    "Obtains Instagram information for the user \"aashnashroff\" and categorizes the account as \"Individual\" or \"Brand/Organization\" depending on whether the profile picture has faces and the biography contains named entities. Ultimately, the classification is printed out. This code will retrieve the information for the Instagram user \"aashnashroff\" and classify their account using the previously described criteria, assuming that the necessary functions (`fetch_instagram_data`, `classify_account}, and the other related functions) are correctly implemented. The following will be printed as the outcome:\n",
    "\n",
    "```\n",
    "The account 'aashnashroff' is classified as: Individual\n",
    "```\n",
    "\n",
    "The classification depends on the specific content of the user's profile picture and biography, and the code determines whether it's an \"Individual\" or a \"Brand/Organization\" based on the presence of faces and named entities."
   ]
  },
  {
   "cell_type": "code",
   "execution_count": 49,
   "id": "69a78c47",
   "metadata": {},
   "outputs": [
    {
     "name": "stderr",
     "output_type": "stream",
     "text": [
      "No model was supplied, defaulted to dbmdz/bert-large-cased-finetuned-conll03-english and revision f2482bf (https://huggingface.co/dbmdz/bert-large-cased-finetuned-conll03-english).\n",
      "Using a pipeline without specifying a model name and revision in production is not recommended.\n",
      "Some weights of the model checkpoint at dbmdz/bert-large-cased-finetuned-conll03-english were not used when initializing BertForTokenClassification: ['bert.pooler.dense.weight', 'bert.pooler.dense.bias']\n",
      "- This IS expected if you are initializing BertForTokenClassification from the checkpoint of a model trained on another task or with another architecture (e.g. initializing a BertForSequenceClassification model from a BertForPreTraining model).\n",
      "- This IS NOT expected if you are initializing BertForTokenClassification from the checkpoint of a model that you expect to be exactly identical (initializing a BertForSequenceClassification model from a BertForSequenceClassification model).\n"
     ]
    },
    {
     "name": "stdout",
     "output_type": "stream",
     "text": [
      "The account 'aashnashroff' is classified as: Individual\n"
     ]
    }
   ],
   "source": [
    "username = \"aashnashroff\"\n",
    "profile = fetch_instagram_data(username)\n",
    "classification = classify_account(profile)\n",
    "print(f\"The account '{username}' is classified as: {classification}\")\n"
   ]
  }
 ],
 "metadata": {
  "kernelspec": {
   "display_name": "Python 3 (ipykernel)",
   "language": "python",
   "name": "python3"
  },
  "language_info": {
   "codemirror_mode": {
    "name": "ipython",
    "version": 3
   },
   "file_extension": ".py",
   "mimetype": "text/x-python",
   "name": "python",
   "nbconvert_exporter": "python",
   "pygments_lexer": "ipython3",
   "version": "3.11.5"
  }
 },
 "nbformat": 4,
 "nbformat_minor": 5
}
